{
 "cells": [
  {
   "cell_type": "markdown",
   "metadata": {},
   "source": []
  },
  {
   "cell_type": "markdown",
   "metadata": {},
   "source": [
    "# Literature Review Data Collection\n",
    "\n",
    "This Jupyter Notebook is used to collect and analyze literature review data from the Scopus database. The process involves the following steps:\n",
    "\n",
    "1. **Initialization**: Initialize the pybliometrics library to access the Scopus database.\n",
    "2. **API Key Setup**: Set up the API key required to authenticate and access the Scopus database.\n",
    "3. **Search Query**: Define a search query to retrieve relevant literature based on specific keywords related to heuristic, metaheuristic, and facility location problems.\n",
    "4. **Data Retrieval**: Perform the search using the defined query and retrieve the results.\n",
    "5. **Data Conversion**: Convert the search results into a pandas DataFrame for further analysis.\n",
    "6. **Data Storage**: Save the retrieved data into a CSV file for future reference and analysis.\n",
    "\n",
    "The following cells contain the code to perform these steps."
   ]
  },
  {
   "cell_type": "code",
   "execution_count": 10,
   "metadata": {},
   "outputs": [],
   "source": [
    "import pybliometrics\n",
    "\n",
    "pybliometrics.scopus.init()"
   ]
  },
  {
   "cell_type": "code",
   "execution_count": 8,
   "metadata": {},
   "outputs": [],
   "source": [
    "from pybliometrics.scopus import ScopusSearch\n",
    "import pandas as pd\n",
    "\n",
    "# Replace with your API key\n",
    "api_key = 'c35fc215c7b1d3527d2da226f0fc5062'\n",
    "\n",
    "# Perform a search query\n",
    "query = 'TITLE-ABS-KEY( heuristic OR metaheuristic OR mathheuristic OR meta-heuristic OR heuristics ) AND ( p-median OR median OR 1-median OR median AND location OR p-center OR 1-center OR center AND location OR ordered AND median OR covering OR anti-covering OR cflp OR capacitated AND facility AND location OR uflp OR facility AND location AND problem OR fixed-charge AND location OR multi-period AND location OR dynamic AND location OR location-routing OR hub AND location OR districting OR hierarchical AND location OR stochastic AND location )'\n",
    "s = ScopusSearch(query, api_key=api_key)\n",
    "\n",
    "# Convert results to a DataFrame\n",
    "df = pd.DataFrame(s.results)\n",
    "\n",
    "# Save to CSV\n",
    "df.to_csv('literature-review/data/raw/scopus_results.csv', index=False)"
   ]
  }
 ],
 "metadata": {
  "kernelspec": {
   "display_name": "py37",
   "language": "python",
   "name": "python3"
  },
  "language_info": {
   "codemirror_mode": {
    "name": "ipython",
    "version": 3
   },
   "file_extension": ".py",
   "mimetype": "text/x-python",
   "name": "python",
   "nbconvert_exporter": "python",
   "pygments_lexer": "ipython3",
   "version": "3.7.9"
  }
 },
 "nbformat": 4,
 "nbformat_minor": 2
}
